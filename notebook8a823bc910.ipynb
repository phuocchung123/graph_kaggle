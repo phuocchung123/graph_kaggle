{
 "cells": [
  {
   "cell_type": "code",
   "execution_count": 1,
   "id": "29a97be1",
   "metadata": {
    "execution": {
     "iopub.execute_input": "2024-04-10T08:31:36.480219Z",
     "iopub.status.busy": "2024-04-10T08:31:36.479049Z",
     "iopub.status.idle": "2024-04-10T08:33:56.688922Z",
     "shell.execute_reply": "2024-04-10T08:33:56.687772Z"
    },
    "papermill": {
     "duration": 140.221423,
     "end_time": "2024-04-10T08:33:56.691583",
     "exception": false,
     "start_time": "2024-04-10T08:31:36.470160",
     "status": "completed"
    },
    "tags": []
   },
   "outputs": [
    {
     "name": "stdout",
     "output_type": "stream",
     "text": [
      "Collecting torch==2.1.0\r\n",
      "  Downloading torch-2.1.0-cp310-cp310-manylinux1_x86_64.whl.metadata (25 kB)\r\n",
      "Requirement already satisfied: filelock in /opt/conda/lib/python3.10/site-packages (from torch==2.1.0) (3.13.1)\r\n",
      "Requirement already satisfied: typing-extensions in /opt/conda/lib/python3.10/site-packages (from torch==2.1.0) (4.9.0)\r\n",
      "Requirement already satisfied: sympy in /opt/conda/lib/python3.10/site-packages (from torch==2.1.0) (1.12)\r\n",
      "Requirement already satisfied: networkx in /opt/conda/lib/python3.10/site-packages (from torch==2.1.0) (3.2.1)\r\n",
      "Requirement already satisfied: jinja2 in /opt/conda/lib/python3.10/site-packages (from torch==2.1.0) (3.1.2)\r\n",
      "Requirement already satisfied: fsspec in /opt/conda/lib/python3.10/site-packages (from torch==2.1.0) (2024.3.0)\r\n",
      "Collecting nvidia-cuda-nvrtc-cu12==12.1.105 (from torch==2.1.0)\r\n",
      "  Downloading nvidia_cuda_nvrtc_cu12-12.1.105-py3-none-manylinux1_x86_64.whl.metadata (1.5 kB)\r\n",
      "Collecting nvidia-cuda-runtime-cu12==12.1.105 (from torch==2.1.0)\r\n",
      "  Downloading nvidia_cuda_runtime_cu12-12.1.105-py3-none-manylinux1_x86_64.whl.metadata (1.5 kB)\r\n",
      "Collecting nvidia-cuda-cupti-cu12==12.1.105 (from torch==2.1.0)\r\n",
      "  Downloading nvidia_cuda_cupti_cu12-12.1.105-py3-none-manylinux1_x86_64.whl.metadata (1.6 kB)\r\n",
      "Collecting nvidia-cudnn-cu12==8.9.2.26 (from torch==2.1.0)\r\n",
      "  Downloading nvidia_cudnn_cu12-8.9.2.26-py3-none-manylinux1_x86_64.whl.metadata (1.6 kB)\r\n",
      "Collecting nvidia-cublas-cu12==12.1.3.1 (from torch==2.1.0)\r\n",
      "  Downloading nvidia_cublas_cu12-12.1.3.1-py3-none-manylinux1_x86_64.whl.metadata (1.5 kB)\r\n",
      "Collecting nvidia-cufft-cu12==11.0.2.54 (from torch==2.1.0)\r\n",
      "  Downloading nvidia_cufft_cu12-11.0.2.54-py3-none-manylinux1_x86_64.whl.metadata (1.5 kB)\r\n",
      "Collecting nvidia-curand-cu12==10.3.2.106 (from torch==2.1.0)\r\n",
      "  Downloading nvidia_curand_cu12-10.3.2.106-py3-none-manylinux1_x86_64.whl.metadata (1.5 kB)\r\n",
      "Collecting nvidia-cusolver-cu12==11.4.5.107 (from torch==2.1.0)\r\n",
      "  Downloading nvidia_cusolver_cu12-11.4.5.107-py3-none-manylinux1_x86_64.whl.metadata (1.6 kB)\r\n",
      "Collecting nvidia-cusparse-cu12==12.1.0.106 (from torch==2.1.0)\r\n",
      "  Downloading nvidia_cusparse_cu12-12.1.0.106-py3-none-manylinux1_x86_64.whl.metadata (1.6 kB)\r\n",
      "Collecting nvidia-nccl-cu12==2.18.1 (from torch==2.1.0)\r\n",
      "  Downloading nvidia_nccl_cu12-2.18.1-py3-none-manylinux1_x86_64.whl.metadata (1.8 kB)\r\n",
      "Collecting nvidia-nvtx-cu12==12.1.105 (from torch==2.1.0)\r\n",
      "  Downloading nvidia_nvtx_cu12-12.1.105-py3-none-manylinux1_x86_64.whl.metadata (1.7 kB)\r\n",
      "Collecting triton==2.1.0 (from torch==2.1.0)\r\n",
      "  Downloading triton-2.1.0-0-cp310-cp310-manylinux2014_x86_64.manylinux_2_17_x86_64.whl.metadata (1.3 kB)\r\n",
      "Collecting nvidia-nvjitlink-cu12 (from nvidia-cusolver-cu12==11.4.5.107->torch==2.1.0)\r\n",
      "  Downloading nvidia_nvjitlink_cu12-12.4.127-py3-none-manylinux2014_x86_64.whl.metadata (1.5 kB)\r\n",
      "Requirement already satisfied: MarkupSafe>=2.0 in /opt/conda/lib/python3.10/site-packages (from jinja2->torch==2.1.0) (2.1.3)\r\n",
      "Requirement already satisfied: mpmath>=0.19 in /opt/conda/lib/python3.10/site-packages (from sympy->torch==2.1.0) (1.3.0)\r\n",
      "Downloading torch-2.1.0-cp310-cp310-manylinux1_x86_64.whl (670.2 MB)\r\n",
      "\u001b[2K   \u001b[90m━━━━━━━━━━━━━━━━━━━━━━━━━━━━━━━━━━━━━━━━\u001b[0m \u001b[32m670.2/670.2 MB\u001b[0m \u001b[31m2.4 MB/s\u001b[0m eta \u001b[36m0:00:00\u001b[0m\r\n",
      "\u001b[?25hDownloading nvidia_cublas_cu12-12.1.3.1-py3-none-manylinux1_x86_64.whl (410.6 MB)\r\n",
      "\u001b[2K   \u001b[90m━━━━━━━━━━━━━━━━━━━━━━━━━━━━━━━━━━━━━━━━\u001b[0m \u001b[32m410.6/410.6 MB\u001b[0m \u001b[31m3.9 MB/s\u001b[0m eta \u001b[36m0:00:00\u001b[0m\r\n",
      "\u001b[?25hDownloading nvidia_cuda_cupti_cu12-12.1.105-py3-none-manylinux1_x86_64.whl (14.1 MB)\r\n",
      "\u001b[2K   \u001b[90m━━━━━━━━━━━━━━━━━━━━━━━━━━━━━━━━━━━━━━━━\u001b[0m \u001b[32m14.1/14.1 MB\u001b[0m \u001b[31m85.8 MB/s\u001b[0m eta \u001b[36m0:00:00\u001b[0m\r\n",
      "\u001b[?25hDownloading nvidia_cuda_nvrtc_cu12-12.1.105-py3-none-manylinux1_x86_64.whl (23.7 MB)\r\n",
      "\u001b[2K   \u001b[90m━━━━━━━━━━━━━━━━━━━━━━━━━━━━━━━━━━━━━━━━\u001b[0m \u001b[32m23.7/23.7 MB\u001b[0m \u001b[31m70.7 MB/s\u001b[0m eta \u001b[36m0:00:00\u001b[0m\r\n",
      "\u001b[?25hDownloading nvidia_cuda_runtime_cu12-12.1.105-py3-none-manylinux1_x86_64.whl (823 kB)\r\n",
      "\u001b[2K   \u001b[90m━━━━━━━━━━━━━━━━━━━━━━━━━━━━━━━━━━━━━━━━\u001b[0m \u001b[32m823.6/823.6 kB\u001b[0m \u001b[31m39.6 MB/s\u001b[0m eta \u001b[36m0:00:00\u001b[0m\r\n",
      "\u001b[?25hDownloading nvidia_cudnn_cu12-8.9.2.26-py3-none-manylinux1_x86_64.whl (731.7 MB)\r\n",
      "\u001b[2K   \u001b[90m━━━━━━━━━━━━━━━━━━━━━━━━━━━━━━━━━━━━━━━━\u001b[0m \u001b[32m731.7/731.7 MB\u001b[0m \u001b[31m1.4 MB/s\u001b[0m eta \u001b[36m0:00:00\u001b[0m\r\n",
      "\u001b[?25hDownloading nvidia_cufft_cu12-11.0.2.54-py3-none-manylinux1_x86_64.whl (121.6 MB)\r\n",
      "\u001b[2K   \u001b[90m━━━━━━━━━━━━━━━━━━━━━━━━━━━━━━━━━━━━━━━━\u001b[0m \u001b[32m121.6/121.6 MB\u001b[0m \u001b[31m6.7 MB/s\u001b[0m eta \u001b[36m0:00:00\u001b[0m\r\n",
      "\u001b[?25hDownloading nvidia_curand_cu12-10.3.2.106-py3-none-manylinux1_x86_64.whl (56.5 MB)\r\n",
      "\u001b[2K   \u001b[90m━━━━━━━━━━━━━━━━━━━━━━━━━━━━━━━━━━━━━━━━\u001b[0m \u001b[32m56.5/56.5 MB\u001b[0m \u001b[31m14.3 MB/s\u001b[0m eta \u001b[36m0:00:00\u001b[0m\r\n",
      "\u001b[?25hDownloading nvidia_cusolver_cu12-11.4.5.107-py3-none-manylinux1_x86_64.whl (124.2 MB)\r\n",
      "\u001b[2K   \u001b[90m━━━━━━━━━━━━━━━━━━━━━━━━━━━━━━━━━━━━━━━━\u001b[0m \u001b[32m124.2/124.2 MB\u001b[0m \u001b[31m13.3 MB/s\u001b[0m eta \u001b[36m0:00:00\u001b[0m\r\n",
      "\u001b[?25hDownloading nvidia_cusparse_cu12-12.1.0.106-py3-none-manylinux1_x86_64.whl (196.0 MB)\r\n",
      "\u001b[2K   \u001b[90m━━━━━━━━━━━━━━━━━━━━━━━━━━━━━━━━━━━━━━━━\u001b[0m \u001b[32m196.0/196.0 MB\u001b[0m \u001b[31m8.4 MB/s\u001b[0m eta \u001b[36m0:00:00\u001b[0m\r\n",
      "\u001b[?25hDownloading nvidia_nccl_cu12-2.18.1-py3-none-manylinux1_x86_64.whl (209.8 MB)\r\n",
      "\u001b[2K   \u001b[90m━━━━━━━━━━━━━━━━━━━━━━━━━━━━━━━━━━━━━━━━\u001b[0m \u001b[32m209.8/209.8 MB\u001b[0m \u001b[31m1.8 MB/s\u001b[0m eta \u001b[36m0:00:00\u001b[0m\r\n",
      "\u001b[?25hDownloading nvidia_nvtx_cu12-12.1.105-py3-none-manylinux1_x86_64.whl (99 kB)\r\n",
      "\u001b[2K   \u001b[90m━━━━━━━━━━━━━━━━━━━━━━━━━━━━━━━━━━━━━━━━\u001b[0m \u001b[32m99.1/99.1 kB\u001b[0m \u001b[31m484.0 kB/s\u001b[0m eta \u001b[36m0:00:00\u001b[0m\r\n",
      "\u001b[?25hDownloading triton-2.1.0-0-cp310-cp310-manylinux2014_x86_64.manylinux_2_17_x86_64.whl (89.2 MB)\r\n",
      "\u001b[2K   \u001b[90m━━━━━━━━━━━━━━━━━━━━━━━━━━━━━━━━━━━━━━━━\u001b[0m \u001b[32m89.2/89.2 MB\u001b[0m \u001b[31m13.5 MB/s\u001b[0m eta \u001b[36m0:00:00\u001b[0m\r\n",
      "\u001b[?25hDownloading nvidia_nvjitlink_cu12-12.4.127-py3-none-manylinux2014_x86_64.whl (21.1 MB)\r\n",
      "\u001b[2K   \u001b[90m━━━━━━━━━━━━━━━━━━━━━━━━━━━━━━━━━━━━━━━━\u001b[0m \u001b[32m21.1/21.1 MB\u001b[0m \u001b[31m79.2 MB/s\u001b[0m eta \u001b[36m0:00:00\u001b[0m\r\n",
      "\u001b[?25hInstalling collected packages: triton, nvidia-nvtx-cu12, nvidia-nvjitlink-cu12, nvidia-nccl-cu12, nvidia-curand-cu12, nvidia-cufft-cu12, nvidia-cuda-runtime-cu12, nvidia-cuda-nvrtc-cu12, nvidia-cuda-cupti-cu12, nvidia-cublas-cu12, nvidia-cusparse-cu12, nvidia-cudnn-cu12, nvidia-cusolver-cu12, torch\r\n",
      "  Attempting uninstall: torch\r\n",
      "    Found existing installation: torch 2.1.2\r\n",
      "    Uninstalling torch-2.1.2:\r\n",
      "      Successfully uninstalled torch-2.1.2\r\n",
      "Successfully installed nvidia-cublas-cu12-12.1.3.1 nvidia-cuda-cupti-cu12-12.1.105 nvidia-cuda-nvrtc-cu12-12.1.105 nvidia-cuda-runtime-cu12-12.1.105 nvidia-cudnn-cu12-8.9.2.26 nvidia-cufft-cu12-11.0.2.54 nvidia-curand-cu12-10.3.2.106 nvidia-cusolver-cu12-11.4.5.107 nvidia-cusparse-cu12-12.1.0.106 nvidia-nccl-cu12-2.18.1 nvidia-nvjitlink-cu12-12.4.127 nvidia-nvtx-cu12-12.1.105 torch-2.1.0 triton-2.1.0\r\n"
     ]
    }
   ],
   "source": [
    "!pip install torch==2.1.0"
   ]
  },
  {
   "cell_type": "code",
   "execution_count": 2,
   "id": "cf98a501",
   "metadata": {
    "execution": {
     "iopub.execute_input": "2024-04-10T08:33:56.844525Z",
     "iopub.status.busy": "2024-04-10T08:33:56.843624Z",
     "iopub.status.idle": "2024-04-10T08:33:59.123887Z",
     "shell.execute_reply": "2024-04-10T08:33:59.122927Z"
    },
    "papermill": {
     "duration": 2.359007,
     "end_time": "2024-04-10T08:33:59.126033",
     "exception": false,
     "start_time": "2024-04-10T08:33:56.767026",
     "status": "completed"
    },
    "tags": []
   },
   "outputs": [
    {
     "name": "stdout",
     "output_type": "stream",
     "text": [
      "2.1.0+cu121\n"
     ]
    }
   ],
   "source": [
    "import torch\n",
    "print(torch.__version__)"
   ]
  },
  {
   "cell_type": "code",
   "execution_count": 3,
   "id": "67011e79",
   "metadata": {
    "execution": {
     "iopub.execute_input": "2024-04-10T08:33:59.329787Z",
     "iopub.status.busy": "2024-04-10T08:33:59.329309Z",
     "iopub.status.idle": "2024-04-10T08:35:04.699189Z",
     "shell.execute_reply": "2024-04-10T08:35:04.698014Z"
    },
    "papermill": {
     "duration": 65.500352,
     "end_time": "2024-04-10T08:35:04.701831",
     "exception": false,
     "start_time": "2024-04-10T08:33:59.201479",
     "status": "completed"
    },
    "tags": []
   },
   "outputs": [
    {
     "name": "stdout",
     "output_type": "stream",
     "text": [
      "Looking in links: https://data.dgl.ai/wheels/cu121/repo.html\r\n",
      "Collecting dgl\r\n",
      "  Downloading https://data.dgl.ai/wheels/cu121/dgl-2.1.0%2Bcu121-cp310-cp310-manylinux1_x86_64.whl (467.5 MB)\r\n",
      "\u001b[2K     \u001b[90m━━━━━━━━━━━━━━━━━━━━━━━━━━━━━━━━━━━━━━━\u001b[0m \u001b[32m467.5/467.5 MB\u001b[0m \u001b[31m3.4 MB/s\u001b[0m eta \u001b[36m0:00:00\u001b[0m\r\n",
      "\u001b[?25hRequirement already satisfied: numpy>=1.14.0 in /opt/conda/lib/python3.10/site-packages (from dgl) (1.26.4)\r\n",
      "Requirement already satisfied: scipy>=1.1.0 in /opt/conda/lib/python3.10/site-packages (from dgl) (1.11.4)\r\n",
      "Requirement already satisfied: networkx>=2.1 in /opt/conda/lib/python3.10/site-packages (from dgl) (3.2.1)\r\n",
      "Requirement already satisfied: requests>=2.19.0 in /opt/conda/lib/python3.10/site-packages (from dgl) (2.31.0)\r\n",
      "Requirement already satisfied: tqdm in /opt/conda/lib/python3.10/site-packages (from dgl) (4.66.1)\r\n",
      "Requirement already satisfied: psutil>=5.8.0 in /opt/conda/lib/python3.10/site-packages (from dgl) (5.9.3)\r\n",
      "Requirement already satisfied: torchdata>=0.5.0 in /opt/conda/lib/python3.10/site-packages (from dgl) (0.7.1)\r\n",
      "Requirement already satisfied: charset-normalizer<4,>=2 in /opt/conda/lib/python3.10/site-packages (from requests>=2.19.0->dgl) (3.3.2)\r\n",
      "Requirement already satisfied: idna<4,>=2.5 in /opt/conda/lib/python3.10/site-packages (from requests>=2.19.0->dgl) (3.6)\r\n",
      "Requirement already satisfied: urllib3<3,>=1.21.1 in /opt/conda/lib/python3.10/site-packages (from requests>=2.19.0->dgl) (1.26.18)\r\n",
      "Requirement already satisfied: certifi>=2017.4.17 in /opt/conda/lib/python3.10/site-packages (from requests>=2.19.0->dgl) (2024.2.2)\r\n",
      "Requirement already satisfied: torch>=2 in /opt/conda/lib/python3.10/site-packages (from torchdata>=0.5.0->dgl) (2.1.0)\r\n",
      "Requirement already satisfied: filelock in /opt/conda/lib/python3.10/site-packages (from torch>=2->torchdata>=0.5.0->dgl) (3.13.1)\r\n",
      "Requirement already satisfied: typing-extensions in /opt/conda/lib/python3.10/site-packages (from torch>=2->torchdata>=0.5.0->dgl) (4.9.0)\r\n",
      "Requirement already satisfied: sympy in /opt/conda/lib/python3.10/site-packages (from torch>=2->torchdata>=0.5.0->dgl) (1.12)\r\n",
      "Requirement already satisfied: jinja2 in /opt/conda/lib/python3.10/site-packages (from torch>=2->torchdata>=0.5.0->dgl) (3.1.2)\r\n",
      "Requirement already satisfied: fsspec in /opt/conda/lib/python3.10/site-packages (from torch>=2->torchdata>=0.5.0->dgl) (2024.3.0)\r\n",
      "Requirement already satisfied: nvidia-cuda-nvrtc-cu12==12.1.105 in /opt/conda/lib/python3.10/site-packages (from torch>=2->torchdata>=0.5.0->dgl) (12.1.105)\r\n",
      "Requirement already satisfied: nvidia-cuda-runtime-cu12==12.1.105 in /opt/conda/lib/python3.10/site-packages (from torch>=2->torchdata>=0.5.0->dgl) (12.1.105)\r\n",
      "Requirement already satisfied: nvidia-cuda-cupti-cu12==12.1.105 in /opt/conda/lib/python3.10/site-packages (from torch>=2->torchdata>=0.5.0->dgl) (12.1.105)\r\n",
      "Requirement already satisfied: nvidia-cudnn-cu12==8.9.2.26 in /opt/conda/lib/python3.10/site-packages (from torch>=2->torchdata>=0.5.0->dgl) (8.9.2.26)\r\n",
      "Requirement already satisfied: nvidia-cublas-cu12==12.1.3.1 in /opt/conda/lib/python3.10/site-packages (from torch>=2->torchdata>=0.5.0->dgl) (12.1.3.1)\r\n",
      "Requirement already satisfied: nvidia-cufft-cu12==11.0.2.54 in /opt/conda/lib/python3.10/site-packages (from torch>=2->torchdata>=0.5.0->dgl) (11.0.2.54)\r\n",
      "Requirement already satisfied: nvidia-curand-cu12==10.3.2.106 in /opt/conda/lib/python3.10/site-packages (from torch>=2->torchdata>=0.5.0->dgl) (10.3.2.106)\r\n",
      "Requirement already satisfied: nvidia-cusolver-cu12==11.4.5.107 in /opt/conda/lib/python3.10/site-packages (from torch>=2->torchdata>=0.5.0->dgl) (11.4.5.107)\r\n",
      "Requirement already satisfied: nvidia-cusparse-cu12==12.1.0.106 in /opt/conda/lib/python3.10/site-packages (from torch>=2->torchdata>=0.5.0->dgl) (12.1.0.106)\r\n",
      "Requirement already satisfied: nvidia-nccl-cu12==2.18.1 in /opt/conda/lib/python3.10/site-packages (from torch>=2->torchdata>=0.5.0->dgl) (2.18.1)\r\n",
      "Requirement already satisfied: nvidia-nvtx-cu12==12.1.105 in /opt/conda/lib/python3.10/site-packages (from torch>=2->torchdata>=0.5.0->dgl) (12.1.105)\r\n",
      "Requirement already satisfied: triton==2.1.0 in /opt/conda/lib/python3.10/site-packages (from torch>=2->torchdata>=0.5.0->dgl) (2.1.0)\r\n",
      "Requirement already satisfied: nvidia-nvjitlink-cu12 in /opt/conda/lib/python3.10/site-packages (from nvidia-cusolver-cu12==11.4.5.107->torch>=2->torchdata>=0.5.0->dgl) (12.4.127)\r\n",
      "Requirement already satisfied: MarkupSafe>=2.0 in /opt/conda/lib/python3.10/site-packages (from jinja2->torch>=2->torchdata>=0.5.0->dgl) (2.1.3)\r\n",
      "Requirement already satisfied: mpmath>=0.19 in /opt/conda/lib/python3.10/site-packages (from sympy->torch>=2->torchdata>=0.5.0->dgl) (1.3.0)\r\n",
      "Installing collected packages: dgl\r\n",
      "Successfully installed dgl-2.1.0+cu121\r\n",
      "Looking in links: https://data.dgl.ai/wheels-test/repo.html\r\n",
      "Collecting dglgo\r\n",
      "  Downloading dglgo-0.0.2-py3-none-any.whl.metadata (500 bytes)\r\n",
      "Requirement already satisfied: typer>=0.4.0 in /opt/conda/lib/python3.10/site-packages (from dglgo) (0.9.0)\r\n",
      "Requirement already satisfied: isort>=5.10.1 in /opt/conda/lib/python3.10/site-packages (from dglgo) (5.13.2)\r\n",
      "Requirement already satisfied: autopep8>=1.6.0 in /opt/conda/lib/python3.10/site-packages (from dglgo) (2.0.4)\r\n",
      "Collecting numpydoc>=1.1.0 (from dglgo)\r\n",
      "  Downloading numpydoc-1.7.0-py3-none-any.whl.metadata (4.2 kB)\r\n",
      "Requirement already satisfied: pydantic>=1.9.0 in /opt/conda/lib/python3.10/site-packages (from dglgo) (2.5.3)\r\n",
      "Requirement already satisfied: ruamel.yaml>=0.17.20 in /opt/conda/lib/python3.10/site-packages (from dglgo) (0.17.40)\r\n",
      "Requirement already satisfied: PyYAML>=5.1 in /opt/conda/lib/python3.10/site-packages (from dglgo) (6.0.1)\r\n",
      "Collecting ogb>=1.3.3 (from dglgo)\r\n",
      "  Downloading ogb-1.3.6-py3-none-any.whl.metadata (6.2 kB)\r\n",
      "Collecting rdkit-pypi (from dglgo)\r\n",
      "  Downloading rdkit_pypi-2022.9.5-cp310-cp310-manylinux_2_17_x86_64.manylinux2014_x86_64.whl.metadata (3.9 kB)\r\n",
      "Requirement already satisfied: scikit-learn>=0.20.0 in /opt/conda/lib/python3.10/site-packages (from dglgo) (1.2.2)\r\n",
      "Requirement already satisfied: pycodestyle>=2.10.0 in /opt/conda/lib/python3.10/site-packages (from autopep8>=1.6.0->dglgo) (2.11.1)\r\n",
      "Requirement already satisfied: tomli in /opt/conda/lib/python3.10/site-packages (from autopep8>=1.6.0->dglgo) (2.0.1)\r\n",
      "Collecting sphinx>=6 (from numpydoc>=1.1.0->dglgo)\r\n",
      "  Downloading sphinx-7.2.6-py3-none-any.whl.metadata (5.9 kB)\r\n",
      "Requirement already satisfied: tabulate>=0.8.10 in /opt/conda/lib/python3.10/site-packages (from numpydoc>=1.1.0->dglgo) (0.9.0)\r\n",
      "Requirement already satisfied: torch>=1.6.0 in /opt/conda/lib/python3.10/site-packages (from ogb>=1.3.3->dglgo) (2.1.0)\r\n",
      "Requirement already satisfied: numpy>=1.16.0 in /opt/conda/lib/python3.10/site-packages (from ogb>=1.3.3->dglgo) (1.26.4)\r\n",
      "Requirement already satisfied: tqdm>=4.29.0 in /opt/conda/lib/python3.10/site-packages (from ogb>=1.3.3->dglgo) (4.66.1)\r\n",
      "Requirement already satisfied: pandas>=0.24.0 in /opt/conda/lib/python3.10/site-packages (from ogb>=1.3.3->dglgo) (2.1.4)\r\n",
      "Requirement already satisfied: six>=1.12.0 in /opt/conda/lib/python3.10/site-packages (from ogb>=1.3.3->dglgo) (1.16.0)\r\n",
      "Requirement already satisfied: urllib3>=1.24.0 in /opt/conda/lib/python3.10/site-packages (from ogb>=1.3.3->dglgo) (1.26.18)\r\n",
      "Collecting outdated>=0.2.0 (from ogb>=1.3.3->dglgo)\r\n",
      "  Downloading outdated-0.2.2-py2.py3-none-any.whl.metadata (4.7 kB)\r\n",
      "Requirement already satisfied: annotated-types>=0.4.0 in /opt/conda/lib/python3.10/site-packages (from pydantic>=1.9.0->dglgo) (0.6.0)\r\n",
      "Requirement already satisfied: pydantic-core==2.14.6 in /opt/conda/lib/python3.10/site-packages (from pydantic>=1.9.0->dglgo) (2.14.6)\r\n",
      "Requirement already satisfied: typing-extensions>=4.6.1 in /opt/conda/lib/python3.10/site-packages (from pydantic>=1.9.0->dglgo) (4.9.0)\r\n",
      "Requirement already satisfied: ruamel.yaml.clib>=0.2.7 in /opt/conda/lib/python3.10/site-packages (from ruamel.yaml>=0.17.20->dglgo) (0.2.7)\r\n",
      "Requirement already satisfied: scipy>=1.3.2 in /opt/conda/lib/python3.10/site-packages (from scikit-learn>=0.20.0->dglgo) (1.11.4)\r\n",
      "Requirement already satisfied: joblib>=1.1.1 in /opt/conda/lib/python3.10/site-packages (from scikit-learn>=0.20.0->dglgo) (1.3.2)\r\n",
      "Requirement already satisfied: threadpoolctl>=2.0.0 in /opt/conda/lib/python3.10/site-packages (from scikit-learn>=0.20.0->dglgo) (3.2.0)\r\n",
      "Requirement already satisfied: click<9.0.0,>=7.1.1 in /opt/conda/lib/python3.10/site-packages (from typer>=0.4.0->dglgo) (8.1.7)\r\n",
      "Requirement already satisfied: Pillow in /opt/conda/lib/python3.10/site-packages (from rdkit-pypi->dglgo) (9.5.0)\r\n",
      "Requirement already satisfied: setuptools>=44 in /opt/conda/lib/python3.10/site-packages (from outdated>=0.2.0->ogb>=1.3.3->dglgo) (69.0.3)\r\n",
      "Collecting littleutils (from outdated>=0.2.0->ogb>=1.3.3->dglgo)\r\n",
      "  Downloading littleutils-0.2.2.tar.gz (6.6 kB)\r\n",
      "  Preparing metadata (setup.py) ... \u001b[?25l-\b \bdone\r\n",
      "\u001b[?25hRequirement already satisfied: requests in /opt/conda/lib/python3.10/site-packages (from outdated>=0.2.0->ogb>=1.3.3->dglgo) (2.31.0)\r\n",
      "Requirement already satisfied: python-dateutil>=2.8.2 in /opt/conda/lib/python3.10/site-packages (from pandas>=0.24.0->ogb>=1.3.3->dglgo) (2.9.0.post0)\r\n",
      "Requirement already satisfied: pytz>=2020.1 in /opt/conda/lib/python3.10/site-packages (from pandas>=0.24.0->ogb>=1.3.3->dglgo) (2023.3.post1)\r\n",
      "Requirement already satisfied: tzdata>=2022.1 in /opt/conda/lib/python3.10/site-packages (from pandas>=0.24.0->ogb>=1.3.3->dglgo) (2023.4)\r\n",
      "Collecting sphinxcontrib-applehelp (from sphinx>=6->numpydoc>=1.1.0->dglgo)\r\n",
      "  Downloading sphinxcontrib_applehelp-1.0.8-py3-none-any.whl.metadata (2.3 kB)\r\n",
      "Collecting sphinxcontrib-devhelp (from sphinx>=6->numpydoc>=1.1.0->dglgo)\r\n",
      "  Downloading sphinxcontrib_devhelp-1.0.6-py3-none-any.whl.metadata (2.3 kB)\r\n",
      "Collecting sphinxcontrib-jsmath (from sphinx>=6->numpydoc>=1.1.0->dglgo)\r\n",
      "  Downloading sphinxcontrib_jsmath-1.0.1-py2.py3-none-any.whl.metadata (1.4 kB)\r\n",
      "Collecting sphinxcontrib-htmlhelp>=2.0.0 (from sphinx>=6->numpydoc>=1.1.0->dglgo)\r\n",
      "  Downloading sphinxcontrib_htmlhelp-2.0.5-py3-none-any.whl.metadata (2.3 kB)\r\n",
      "Collecting sphinxcontrib-serializinghtml>=1.1.9 (from sphinx>=6->numpydoc>=1.1.0->dglgo)\r\n",
      "  Downloading sphinxcontrib_serializinghtml-1.1.10-py3-none-any.whl.metadata (2.4 kB)\r\n",
      "Collecting sphinxcontrib-qthelp (from sphinx>=6->numpydoc>=1.1.0->dglgo)\r\n",
      "  Downloading sphinxcontrib_qthelp-1.0.7-py3-none-any.whl.metadata (2.2 kB)\r\n",
      "Requirement already satisfied: Jinja2>=3.0 in /opt/conda/lib/python3.10/site-packages (from sphinx>=6->numpydoc>=1.1.0->dglgo) (3.1.2)\r\n",
      "Requirement already satisfied: Pygments>=2.14 in /opt/conda/lib/python3.10/site-packages (from sphinx>=6->numpydoc>=1.1.0->dglgo) (2.17.2)\r\n",
      "Requirement already satisfied: docutils<0.21,>=0.18.1 in /opt/conda/lib/python3.10/site-packages (from sphinx>=6->numpydoc>=1.1.0->dglgo) (0.20.1)\r\n",
      "Requirement already satisfied: snowballstemmer>=2.0 in /opt/conda/lib/python3.10/site-packages (from sphinx>=6->numpydoc>=1.1.0->dglgo) (2.2.0)\r\n",
      "Requirement already satisfied: babel>=2.9 in /opt/conda/lib/python3.10/site-packages (from sphinx>=6->numpydoc>=1.1.0->dglgo) (2.14.0)\r\n",
      "Collecting alabaster<0.8,>=0.7 (from sphinx>=6->numpydoc>=1.1.0->dglgo)\r\n",
      "  Downloading alabaster-0.7.16-py3-none-any.whl.metadata (2.9 kB)\r\n",
      "Collecting imagesize>=1.3 (from sphinx>=6->numpydoc>=1.1.0->dglgo)\r\n",
      "  Downloading imagesize-1.4.1-py2.py3-none-any.whl.metadata (1.5 kB)\r\n",
      "Requirement already satisfied: packaging>=21.0 in /opt/conda/lib/python3.10/site-packages (from sphinx>=6->numpydoc>=1.1.0->dglgo) (21.3)\r\n",
      "Requirement already satisfied: filelock in /opt/conda/lib/python3.10/site-packages (from torch>=1.6.0->ogb>=1.3.3->dglgo) (3.13.1)\r\n",
      "Requirement already satisfied: sympy in /opt/conda/lib/python3.10/site-packages (from torch>=1.6.0->ogb>=1.3.3->dglgo) (1.12)\r\n",
      "Requirement already satisfied: networkx in /opt/conda/lib/python3.10/site-packages (from torch>=1.6.0->ogb>=1.3.3->dglgo) (3.2.1)\r\n",
      "Requirement already satisfied: fsspec in /opt/conda/lib/python3.10/site-packages (from torch>=1.6.0->ogb>=1.3.3->dglgo) (2024.3.0)\r\n",
      "Requirement already satisfied: nvidia-cuda-nvrtc-cu12==12.1.105 in /opt/conda/lib/python3.10/site-packages (from torch>=1.6.0->ogb>=1.3.3->dglgo) (12.1.105)\r\n",
      "Requirement already satisfied: nvidia-cuda-runtime-cu12==12.1.105 in /opt/conda/lib/python3.10/site-packages (from torch>=1.6.0->ogb>=1.3.3->dglgo) (12.1.105)\r\n",
      "Requirement already satisfied: nvidia-cuda-cupti-cu12==12.1.105 in /opt/conda/lib/python3.10/site-packages (from torch>=1.6.0->ogb>=1.3.3->dglgo) (12.1.105)\r\n",
      "Requirement already satisfied: nvidia-cudnn-cu12==8.9.2.26 in /opt/conda/lib/python3.10/site-packages (from torch>=1.6.0->ogb>=1.3.3->dglgo) (8.9.2.26)\r\n",
      "Requirement already satisfied: nvidia-cublas-cu12==12.1.3.1 in /opt/conda/lib/python3.10/site-packages (from torch>=1.6.0->ogb>=1.3.3->dglgo) (12.1.3.1)\r\n",
      "Requirement already satisfied: nvidia-cufft-cu12==11.0.2.54 in /opt/conda/lib/python3.10/site-packages (from torch>=1.6.0->ogb>=1.3.3->dglgo) (11.0.2.54)\r\n",
      "Requirement already satisfied: nvidia-curand-cu12==10.3.2.106 in /opt/conda/lib/python3.10/site-packages (from torch>=1.6.0->ogb>=1.3.3->dglgo) (10.3.2.106)\r\n",
      "Requirement already satisfied: nvidia-cusolver-cu12==11.4.5.107 in /opt/conda/lib/python3.10/site-packages (from torch>=1.6.0->ogb>=1.3.3->dglgo) (11.4.5.107)\r\n",
      "Requirement already satisfied: nvidia-cusparse-cu12==12.1.0.106 in /opt/conda/lib/python3.10/site-packages (from torch>=1.6.0->ogb>=1.3.3->dglgo) (12.1.0.106)\r\n",
      "Requirement already satisfied: nvidia-nccl-cu12==2.18.1 in /opt/conda/lib/python3.10/site-packages (from torch>=1.6.0->ogb>=1.3.3->dglgo) (2.18.1)\r\n",
      "Requirement already satisfied: nvidia-nvtx-cu12==12.1.105 in /opt/conda/lib/python3.10/site-packages (from torch>=1.6.0->ogb>=1.3.3->dglgo) (12.1.105)\r\n",
      "Requirement already satisfied: triton==2.1.0 in /opt/conda/lib/python3.10/site-packages (from torch>=1.6.0->ogb>=1.3.3->dglgo) (2.1.0)\r\n",
      "Requirement already satisfied: nvidia-nvjitlink-cu12 in /opt/conda/lib/python3.10/site-packages (from nvidia-cusolver-cu12==11.4.5.107->torch>=1.6.0->ogb>=1.3.3->dglgo) (12.4.127)\r\n",
      "Requirement already satisfied: MarkupSafe>=2.0 in /opt/conda/lib/python3.10/site-packages (from Jinja2>=3.0->sphinx>=6->numpydoc>=1.1.0->dglgo) (2.1.3)\r\n",
      "Requirement already satisfied: pyparsing!=3.0.5,>=2.0.2 in /opt/conda/lib/python3.10/site-packages (from packaging>=21.0->sphinx>=6->numpydoc>=1.1.0->dglgo) (3.1.1)\r\n",
      "Requirement already satisfied: charset-normalizer<4,>=2 in /opt/conda/lib/python3.10/site-packages (from requests->outdated>=0.2.0->ogb>=1.3.3->dglgo) (3.3.2)\r\n",
      "Requirement already satisfied: idna<4,>=2.5 in /opt/conda/lib/python3.10/site-packages (from requests->outdated>=0.2.0->ogb>=1.3.3->dglgo) (3.6)\r\n",
      "Requirement already satisfied: certifi>=2017.4.17 in /opt/conda/lib/python3.10/site-packages (from requests->outdated>=0.2.0->ogb>=1.3.3->dglgo) (2024.2.2)\r\n",
      "Requirement already satisfied: mpmath>=0.19 in /opt/conda/lib/python3.10/site-packages (from sympy->torch>=1.6.0->ogb>=1.3.3->dglgo) (1.3.0)\r\n",
      "Downloading dglgo-0.0.2-py3-none-any.whl (63 kB)\r\n",
      "\u001b[2K   \u001b[90m━━━━━━━━━━━━━━━━━━━━━━━━━━━━━━━━━━━━━━━━\u001b[0m \u001b[32m63.5/63.5 kB\u001b[0m \u001b[31m3.4 MB/s\u001b[0m eta \u001b[36m0:00:00\u001b[0m\r\n",
      "\u001b[?25hDownloading numpydoc-1.7.0-py3-none-any.whl (62 kB)\r\n",
      "\u001b[2K   \u001b[90m━━━━━━━━━━━━━━━━━━━━━━━━━━━━━━━━━━━━━━━━\u001b[0m \u001b[32m62.8/62.8 kB\u001b[0m \u001b[31m4.7 MB/s\u001b[0m eta \u001b[36m0:00:00\u001b[0m\r\n",
      "\u001b[?25hDownloading ogb-1.3.6-py3-none-any.whl (78 kB)\r\n",
      "\u001b[2K   \u001b[90m━━━━━━━━━━━━━━━━━━━━━━━━━━━━━━━━━━━━━━━━\u001b[0m \u001b[32m78.8/78.8 kB\u001b[0m \u001b[31m5.8 MB/s\u001b[0m eta \u001b[36m0:00:00\u001b[0m\r\n",
      "\u001b[?25hDownloading rdkit_pypi-2022.9.5-cp310-cp310-manylinux_2_17_x86_64.manylinux2014_x86_64.whl (29.4 MB)\r\n",
      "\u001b[2K   \u001b[90m━━━━━━━━━━━━━━━━━━━━━━━━━━━━━━━━━━━━━━━━\u001b[0m \u001b[32m29.4/29.4 MB\u001b[0m \u001b[31m58.2 MB/s\u001b[0m eta \u001b[36m0:00:00\u001b[0m\r\n",
      "\u001b[?25hDownloading outdated-0.2.2-py2.py3-none-any.whl (7.5 kB)\r\n",
      "Downloading sphinx-7.2.6-py3-none-any.whl (3.2 MB)\r\n",
      "\u001b[2K   \u001b[90m━━━━━━━━━━━━━━━━━━━━━━━━━━━━━━━━━━━━━━━━\u001b[0m \u001b[32m3.2/3.2 MB\u001b[0m \u001b[31m78.7 MB/s\u001b[0m eta \u001b[36m0:00:00\u001b[0m\r\n",
      "\u001b[?25hDownloading alabaster-0.7.16-py3-none-any.whl (13 kB)\r\n",
      "Downloading imagesize-1.4.1-py2.py3-none-any.whl (8.8 kB)\r\n",
      "Downloading sphinxcontrib_htmlhelp-2.0.5-py3-none-any.whl (99 kB)\r\n",
      "\u001b[2K   \u001b[90m━━━━━━━━━━━━━━━━━━━━━━━━━━━━━━━━━━━━━━━━\u001b[0m \u001b[32m99.2/99.2 kB\u001b[0m \u001b[31m7.3 MB/s\u001b[0m eta \u001b[36m0:00:00\u001b[0m\r\n",
      "\u001b[?25hDownloading sphinxcontrib_serializinghtml-1.1.10-py3-none-any.whl (92 kB)\r\n",
      "\u001b[2K   \u001b[90m━━━━━━━━━━━━━━━━━━━━━━━━━━━━━━━━━━━━━━━━\u001b[0m \u001b[32m92.7/92.7 kB\u001b[0m \u001b[31m5.9 MB/s\u001b[0m eta \u001b[36m0:00:00\u001b[0m\r\n",
      "\u001b[?25hDownloading sphinxcontrib_applehelp-1.0.8-py3-none-any.whl (120 kB)\r\n",
      "\u001b[2K   \u001b[90m━━━━━━━━━━━━━━━━━━━━━━━━━━━━━━━━━━━━━━━━\u001b[0m \u001b[32m120.0/120.0 kB\u001b[0m \u001b[31m8.6 MB/s\u001b[0m eta \u001b[36m0:00:00\u001b[0m\r\n",
      "\u001b[?25hDownloading sphinxcontrib_devhelp-1.0.6-py3-none-any.whl (83 kB)\r\n",
      "\u001b[2K   \u001b[90m━━━━━━━━━━━━━━━━━━━━━━━━━━━━━━━━━━━━━━━━\u001b[0m \u001b[32m83.5/83.5 kB\u001b[0m \u001b[31m5.7 MB/s\u001b[0m eta \u001b[36m0:00:00\u001b[0m\r\n",
      "\u001b[?25hDownloading sphinxcontrib_jsmath-1.0.1-py2.py3-none-any.whl (5.1 kB)\r\n",
      "Downloading sphinxcontrib_qthelp-1.0.7-py3-none-any.whl (89 kB)\r\n",
      "\u001b[2K   \u001b[90m━━━━━━━━━━━━━━━━━━━━━━━━━━━━━━━━━━━━━━━━\u001b[0m \u001b[32m89.4/89.4 kB\u001b[0m \u001b[31m6.6 MB/s\u001b[0m eta \u001b[36m0:00:00\u001b[0m\r\n",
      "\u001b[?25hBuilding wheels for collected packages: littleutils\r\n",
      "  Building wheel for littleutils (setup.py) ... \u001b[?25l-\b \b\\\b \bdone\r\n",
      "\u001b[?25h  Created wheel for littleutils: filename=littleutils-0.2.2-py3-none-any.whl size=7026 sha256=cbf4ec356d79bf4667daf7a67f901f576ee6ef00937176424d865b3e0bc096b2\r\n",
      "  Stored in directory: /root/.cache/pip/wheels/3d/fe/b0/27a9892da57472e538c7452a721a9cf463cc03cf7379889266\r\n",
      "Successfully built littleutils\r\n",
      "Installing collected packages: littleutils, sphinxcontrib-serializinghtml, sphinxcontrib-qthelp, sphinxcontrib-jsmath, sphinxcontrib-htmlhelp, sphinxcontrib-devhelp, sphinxcontrib-applehelp, rdkit-pypi, imagesize, alabaster, sphinx, outdated, numpydoc, ogb, dglgo\r\n",
      "Successfully installed alabaster-0.7.16 dglgo-0.0.2 imagesize-1.4.1 littleutils-0.2.2 numpydoc-1.7.0 ogb-1.3.6 outdated-0.2.2 rdkit-pypi-2022.9.5 sphinx-7.2.6 sphinxcontrib-applehelp-1.0.8 sphinxcontrib-devhelp-1.0.6 sphinxcontrib-htmlhelp-2.0.5 sphinxcontrib-jsmath-1.0.1 sphinxcontrib-qthelp-1.0.7 sphinxcontrib-serializinghtml-1.1.10\r\n"
     ]
    }
   ],
   "source": [
    "!pip install  dgl -f https://data.dgl.ai/wheels/cu121/repo.html\n",
    "!pip install  dglgo -f https://data.dgl.ai/wheels-test/repo.html"
   ]
  },
  {
   "cell_type": "code",
   "execution_count": 4,
   "id": "498b87a0",
   "metadata": {
    "execution": {
     "iopub.execute_input": "2024-04-10T08:35:04.887970Z",
     "iopub.status.busy": "2024-04-10T08:35:04.887080Z",
     "iopub.status.idle": "2024-04-10T08:35:19.416845Z",
     "shell.execute_reply": "2024-04-10T08:35:19.415483Z"
    },
    "papermill": {
     "duration": 14.625515,
     "end_time": "2024-04-10T08:35:19.419106",
     "exception": false,
     "start_time": "2024-04-10T08:35:04.793591",
     "status": "completed"
    },
    "tags": []
   },
   "outputs": [
    {
     "name": "stdout",
     "output_type": "stream",
     "text": [
      "Collecting rdkit\r\n",
      "  Downloading rdkit-2023.9.5-cp310-cp310-manylinux_2_17_x86_64.manylinux2014_x86_64.whl.metadata (3.9 kB)\r\n",
      "Requirement already satisfied: numpy in /opt/conda/lib/python3.10/site-packages (from rdkit) (1.26.4)\r\n",
      "Requirement already satisfied: Pillow in /opt/conda/lib/python3.10/site-packages (from rdkit) (9.5.0)\r\n",
      "Downloading rdkit-2023.9.5-cp310-cp310-manylinux_2_17_x86_64.manylinux2014_x86_64.whl (34.4 MB)\r\n",
      "\u001b[2K   \u001b[90m━━━━━━━━━━━━━━━━━━━━━━━━━━━━━━━━━━━━━━━━\u001b[0m \u001b[32m34.4/34.4 MB\u001b[0m \u001b[31m47.8 MB/s\u001b[0m eta \u001b[36m0:00:00\u001b[0m\r\n",
      "\u001b[?25hInstalling collected packages: rdkit\r\n",
      "Successfully installed rdkit-2023.9.5\r\n",
      "Note: you may need to restart the kernel to use updated packages.\n"
     ]
    }
   ],
   "source": [
    "pip install rdkit"
   ]
  },
  {
   "cell_type": "markdown",
   "id": "2b4ced59",
   "metadata": {
    "papermill": {
     "duration": 0.092315,
     "end_time": "2024-04-10T08:35:19.604085",
     "exception": false,
     "start_time": "2024-04-10T08:35:19.511770",
     "status": "completed"
    },
    "tags": []
   },
   "source": [
    "# depth=6, concat"
   ]
  },
  {
   "cell_type": "code",
   "execution_count": 5,
   "id": "8080b5f1",
   "metadata": {
    "execution": {
     "iopub.execute_input": "2024-04-10T08:35:19.792516Z",
     "iopub.status.busy": "2024-04-10T08:35:19.791859Z",
     "iopub.status.idle": "2024-04-10T08:35:19.797154Z",
     "shell.execute_reply": "2024-04-10T08:35:19.796234Z"
    },
    "papermill": {
     "duration": 0.102502,
     "end_time": "2024-04-10T08:35:19.799130",
     "exception": false,
     "start_time": "2024-04-10T08:35:19.696628",
     "status": "completed"
    },
    "tags": []
   },
   "outputs": [],
   "source": [
    "import shutil\n",
    "import os\n",
    "\n",
    "# Delete existing directory\n",
    "if os.path.exists('/kaggle/working/sample_c6'):\n",
    "    shutil.rmtree('/kaggle/working/sample_c6')"
   ]
  },
  {
   "cell_type": "code",
   "execution_count": 6,
   "id": "7f780b18",
   "metadata": {
    "execution": {
     "iopub.execute_input": "2024-04-10T08:35:19.988005Z",
     "iopub.status.busy": "2024-04-10T08:35:19.987607Z",
     "iopub.status.idle": "2024-04-10T08:35:27.005108Z",
     "shell.execute_reply": "2024-04-10T08:35:27.003817Z"
    },
    "papermill": {
     "duration": 7.115389,
     "end_time": "2024-04-10T08:35:27.007723",
     "exception": false,
     "start_time": "2024-04-10T08:35:19.892334",
     "status": "completed"
    },
    "tags": []
   },
   "outputs": [
    {
     "name": "stdout",
     "output_type": "stream",
     "text": [
      "Cloning into '/kaggle/working/sample_c6'...\r\n",
      "remote: Enumerating objects: 515, done.\u001b[K\r\n",
      "remote: Counting objects: 100% (23/23), done.\u001b[K\r\n",
      "remote: Compressing objects: 100% (18/18), done.\u001b[K\r\n",
      "remote: Total 515 (delta 12), reused 13 (delta 5), pack-reused 492\u001b[K\r\n",
      "Receiving objects: 100% (515/515), 129.30 MiB | 35.79 MiB/s, done.\r\n",
      "Resolving deltas: 100% (300/300), done.\r\n"
     ]
    }
   ],
   "source": [
    "!git clone https://github.com/phuocchung123/kaggle_recat.git /kaggle/working/sample_c6"
   ]
  },
  {
   "cell_type": "code",
   "execution_count": 7,
   "id": "dfe38795",
   "metadata": {
    "execution": {
     "iopub.execute_input": "2024-04-10T08:35:27.200747Z",
     "iopub.status.busy": "2024-04-10T08:35:27.200331Z",
     "iopub.status.idle": "2024-04-10T08:35:37.278815Z",
     "shell.execute_reply": "2024-04-10T08:35:37.277651Z"
    },
    "papermill": {
     "duration": 10.177765,
     "end_time": "2024-04-10T08:35:37.281310",
     "exception": false,
     "start_time": "2024-04-10T08:35:27.103545",
     "status": "completed"
    },
    "tags": []
   },
   "outputs": [
    {
     "name": "stdout",
     "output_type": "stream",
     "text": [
      "DGL backend not selected or invalid.  Assuming PyTorch for now.\r\n",
      "Setting the default backend to \"pytorch\". You can change it in the ~/.dgl/config.json file or export the DGLBACKEND environment variable.  Valid options are: pytorch, mxnet, tensorflow (all lowercase)\r\n",
      "Traceback (most recent call last):\r\n",
      "  File \"/kaggle/working/sample_c6/main_finetune.py\", line 40, in <module>\r\n",
      "    finetune(args)\r\n",
      "  File \"/kaggle/working/sample_c6/src_chung/finetune.py\", line 24, in finetune\r\n",
      "    data_train = GraphDataset(args.graph_save_path+'data_train.npz')\r\n",
      "  File \"/kaggle/working/sample_c6/src_chung/dataset.py\", line 9, in __init__\r\n",
      "    self.load()\r\n",
      "  File \"/kaggle/working/sample_c6/src_chung/dataset.py\", line 12, in load\r\n",
      "    rmol_dict=np.load(self.graph_save_path,allow_pickle=True)[\"rmol\"]\r\n",
      "  File \"/opt/conda/lib/python3.10/site-packages/numpy/lib/npyio.py\", line 427, in load\r\n",
      "    fid = stack.enter_context(open(os_fspath(file), \"rb\"))\r\n",
      "FileNotFoundError: [Errno 2] No such file or directory: '/kaggle/working/sample/data_chung/data_train.npz'\r\n"
     ]
    }
   ],
   "source": [
    "!python3 /kaggle/working/sample_c6/main_finetune.py"
   ]
  },
  {
   "cell_type": "markdown",
   "id": "90bb000f",
   "metadata": {
    "papermill": {
     "duration": 0.094957,
     "end_time": "2024-04-10T08:35:37.470861",
     "exception": false,
     "start_time": "2024-04-10T08:35:37.375904",
     "status": "completed"
    },
    "tags": []
   },
   "source": [
    "# depth=3, concat"
   ]
  },
  {
   "cell_type": "code",
   "execution_count": 8,
   "id": "ca4032dd",
   "metadata": {
    "execution": {
     "iopub.execute_input": "2024-04-10T08:35:37.662684Z",
     "iopub.status.busy": "2024-04-10T08:35:37.662298Z",
     "iopub.status.idle": "2024-04-10T08:35:37.667528Z",
     "shell.execute_reply": "2024-04-10T08:35:37.666653Z"
    },
    "papermill": {
     "duration": 0.105181,
     "end_time": "2024-04-10T08:35:37.669528",
     "exception": false,
     "start_time": "2024-04-10T08:35:37.564347",
     "status": "completed"
    },
    "tags": []
   },
   "outputs": [],
   "source": [
    "import shutil\n",
    "import os\n",
    "\n",
    "# Delete existing directory\n",
    "if os.path.exists('/kaggle/working/sample_c3'):\n",
    "    shutil.rmtree('/kaggle/working/sample_c3')"
   ]
  },
  {
   "cell_type": "code",
   "execution_count": 9,
   "id": "e9a30493",
   "metadata": {
    "execution": {
     "iopub.execute_input": "2024-04-10T08:35:37.860396Z",
     "iopub.status.busy": "2024-04-10T08:35:37.860033Z",
     "iopub.status.idle": "2024-04-10T08:35:44.552814Z",
     "shell.execute_reply": "2024-04-10T08:35:44.551821Z"
    },
    "papermill": {
     "duration": 6.791183,
     "end_time": "2024-04-10T08:35:44.555120",
     "exception": false,
     "start_time": "2024-04-10T08:35:37.763937",
     "status": "completed"
    },
    "tags": []
   },
   "outputs": [
    {
     "name": "stdout",
     "output_type": "stream",
     "text": [
      "Cloning into '/kaggle/working/sample_c3'...\r\n",
      "remote: Enumerating objects: 515, done.\u001b[K\r\n",
      "remote: Counting objects: 100% (23/23), done.\u001b[K\r\n",
      "remote: Compressing objects: 100% (18/18), done.\u001b[K\r\n",
      "remote: Total 515 (delta 12), reused 13 (delta 5), pack-reused 492\u001b[K\r\n",
      "Receiving objects: 100% (515/515), 129.30 MiB | 36.24 MiB/s, done.\r\n",
      "Resolving deltas: 100% (300/300), done.\r\n"
     ]
    }
   ],
   "source": [
    "!git clone https://github.com/phuocchung123/kaggle_recat.git /kaggle/working/sample_c3"
   ]
  },
  {
   "cell_type": "code",
   "execution_count": 10,
   "id": "e2f443ac",
   "metadata": {
    "execution": {
     "iopub.execute_input": "2024-04-10T08:35:44.749817Z",
     "iopub.status.busy": "2024-04-10T08:35:44.749437Z",
     "iopub.status.idle": "2024-04-10T08:35:52.715573Z",
     "shell.execute_reply": "2024-04-10T08:35:52.714568Z"
    },
    "papermill": {
     "duration": 8.066346,
     "end_time": "2024-04-10T08:35:52.718063",
     "exception": false,
     "start_time": "2024-04-10T08:35:44.651717",
     "status": "completed"
    },
    "tags": []
   },
   "outputs": [
    {
     "name": "stdout",
     "output_type": "stream",
     "text": [
      "Traceback (most recent call last):\r\n",
      "  File \"/kaggle/working/sample_c3/main_finetune.py\", line 40, in <module>\r\n",
      "    finetune(args)\r\n",
      "  File \"/kaggle/working/sample_c3/src_chung/finetune.py\", line 24, in finetune\r\n",
      "    data_train = GraphDataset(args.graph_save_path+'data_train.npz')\r\n",
      "  File \"/kaggle/working/sample_c3/src_chung/dataset.py\", line 9, in __init__\r\n",
      "    self.load()\r\n",
      "  File \"/kaggle/working/sample_c3/src_chung/dataset.py\", line 12, in load\r\n",
      "    rmol_dict=np.load(self.graph_save_path,allow_pickle=True)[\"rmol\"]\r\n",
      "  File \"/opt/conda/lib/python3.10/site-packages/numpy/lib/npyio.py\", line 427, in load\r\n",
      "    fid = stack.enter_context(open(os_fspath(file), \"rb\"))\r\n",
      "FileNotFoundError: [Errno 2] No such file or directory: '/kaggle/working/sample/data_chung/data_train.npz'\r\n"
     ]
    }
   ],
   "source": [
    "# cross attetion, depth=3, concat\n",
    "!python3 /kaggle/working/sample_c3/main_finetune.py"
   ]
  },
  {
   "cell_type": "markdown",
   "id": "29daefb2",
   "metadata": {
    "papermill": {
     "duration": 0.095968,
     "end_time": "2024-04-10T08:35:52.910202",
     "exception": false,
     "start_time": "2024-04-10T08:35:52.814234",
     "status": "completed"
    },
    "tags": []
   },
   "source": [
    "# depth=2, concat"
   ]
  },
  {
   "cell_type": "code",
   "execution_count": 11,
   "id": "d9d2d69e",
   "metadata": {
    "execution": {
     "iopub.execute_input": "2024-04-10T08:35:53.111960Z",
     "iopub.status.busy": "2024-04-10T08:35:53.111493Z",
     "iopub.status.idle": "2024-04-10T08:35:53.117127Z",
     "shell.execute_reply": "2024-04-10T08:35:53.116157Z"
    },
    "papermill": {
     "duration": 0.109352,
     "end_time": "2024-04-10T08:35:53.119000",
     "exception": false,
     "start_time": "2024-04-10T08:35:53.009648",
     "status": "completed"
    },
    "tags": []
   },
   "outputs": [],
   "source": [
    "import shutil\n",
    "import os\n",
    "\n",
    "# Delete existing directory\n",
    "if os.path.exists('/kaggle/working/sample_c2'):\n",
    "    shutil.rmtree('/kaggle/working/sample_c2')"
   ]
  },
  {
   "cell_type": "code",
   "execution_count": 12,
   "id": "2131cb6b",
   "metadata": {
    "execution": {
     "iopub.execute_input": "2024-04-10T08:35:53.314464Z",
     "iopub.status.busy": "2024-04-10T08:35:53.313671Z",
     "iopub.status.idle": "2024-04-10T08:36:00.058414Z",
     "shell.execute_reply": "2024-04-10T08:36:00.057178Z"
    },
    "papermill": {
     "duration": 6.844587,
     "end_time": "2024-04-10T08:36:00.060842",
     "exception": false,
     "start_time": "2024-04-10T08:35:53.216255",
     "status": "completed"
    },
    "tags": []
   },
   "outputs": [
    {
     "name": "stdout",
     "output_type": "stream",
     "text": [
      "Cloning into '/kaggle/working/sample_c2'...\r\n",
      "remote: Enumerating objects: 515, done.\u001b[K\r\n",
      "remote: Counting objects: 100% (23/23), done.\u001b[K\r\n",
      "remote: Compressing objects: 100% (18/18), done.\u001b[K\r\n",
      "remote: Total 515 (delta 12), reused 13 (delta 5), pack-reused 492\u001b[K\r\n",
      "Receiving objects: 100% (515/515), 129.30 MiB | 35.68 MiB/s, done.\r\n",
      "Resolving deltas: 100% (300/300), done.\r\n"
     ]
    }
   ],
   "source": [
    "!git clone https://github.com/phuocchung123/kaggle_recat.git /kaggle/working/sample_c2"
   ]
  },
  {
   "cell_type": "code",
   "execution_count": 13,
   "id": "533fb5e0",
   "metadata": {
    "execution": {
     "iopub.execute_input": "2024-04-10T08:36:00.259554Z",
     "iopub.status.busy": "2024-04-10T08:36:00.259175Z",
     "iopub.status.idle": "2024-04-10T08:36:08.163583Z",
     "shell.execute_reply": "2024-04-10T08:36:08.162347Z"
    },
    "papermill": {
     "duration": 8.006785,
     "end_time": "2024-04-10T08:36:08.166223",
     "exception": false,
     "start_time": "2024-04-10T08:36:00.159438",
     "status": "completed"
    },
    "tags": []
   },
   "outputs": [
    {
     "name": "stdout",
     "output_type": "stream",
     "text": [
      "Traceback (most recent call last):\r\n",
      "  File \"/kaggle/working/sample_c2/main_finetune.py\", line 40, in <module>\r\n",
      "    finetune(args)\r\n",
      "  File \"/kaggle/working/sample_c2/src_chung/finetune.py\", line 24, in finetune\r\n",
      "    data_train = GraphDataset(args.graph_save_path+'data_train.npz')\r\n",
      "  File \"/kaggle/working/sample_c2/src_chung/dataset.py\", line 9, in __init__\r\n",
      "    self.load()\r\n",
      "  File \"/kaggle/working/sample_c2/src_chung/dataset.py\", line 12, in load\r\n",
      "    rmol_dict=np.load(self.graph_save_path,allow_pickle=True)[\"rmol\"]\r\n",
      "  File \"/opt/conda/lib/python3.10/site-packages/numpy/lib/npyio.py\", line 427, in load\r\n",
      "    fid = stack.enter_context(open(os_fspath(file), \"rb\"))\r\n",
      "FileNotFoundError: [Errno 2] No such file or directory: '/kaggle/working/sample/data_chung/data_train.npz'\r\n"
     ]
    }
   ],
   "source": [
    "# cross attetion, depth=2, concat\n",
    "!python3 /kaggle/working/sample_c2/main_finetune.py"
   ]
  },
  {
   "cell_type": "markdown",
   "id": "fc7d40ba",
   "metadata": {
    "papermill": {
     "duration": 0.097957,
     "end_time": "2024-04-10T08:36:08.363184",
     "exception": false,
     "start_time": "2024-04-10T08:36:08.265227",
     "status": "completed"
    },
    "tags": []
   },
   "source": [
    "# depth=6, sub"
   ]
  },
  {
   "cell_type": "code",
   "execution_count": 14,
   "id": "6bb90919",
   "metadata": {
    "execution": {
     "iopub.execute_input": "2024-04-10T08:36:08.563503Z",
     "iopub.status.busy": "2024-04-10T08:36:08.562236Z",
     "iopub.status.idle": "2024-04-10T08:36:08.568113Z",
     "shell.execute_reply": "2024-04-10T08:36:08.567220Z"
    },
    "papermill": {
     "duration": 0.109122,
     "end_time": "2024-04-10T08:36:08.570099",
     "exception": false,
     "start_time": "2024-04-10T08:36:08.460977",
     "status": "completed"
    },
    "tags": []
   },
   "outputs": [],
   "source": [
    "import shutil\n",
    "import os\n",
    "\n",
    "# Delete existing directory\n",
    "if os.path.exists('/kaggle/working/sample_s6'):\n",
    "    shutil.rmtree('/kaggle/working/sample_s6')"
   ]
  },
  {
   "cell_type": "code",
   "execution_count": 15,
   "id": "efb20c6e",
   "metadata": {
    "execution": {
     "iopub.execute_input": "2024-04-10T08:36:08.769234Z",
     "iopub.status.busy": "2024-04-10T08:36:08.768476Z",
     "iopub.status.idle": "2024-04-10T08:36:15.524840Z",
     "shell.execute_reply": "2024-04-10T08:36:15.523080Z"
    },
    "papermill": {
     "duration": 6.85985,
     "end_time": "2024-04-10T08:36:15.527865",
     "exception": false,
     "start_time": "2024-04-10T08:36:08.668015",
     "status": "completed"
    },
    "tags": []
   },
   "outputs": [
    {
     "name": "stdout",
     "output_type": "stream",
     "text": [
      "Cloning into '/kaggle/working/sample_s6'...\r\n",
      "remote: Enumerating objects: 515, done.\u001b[K\r\n",
      "remote: Counting objects: 100% (23/23), done.\u001b[K\r\n",
      "remote: Compressing objects: 100% (18/18), done.\u001b[K\r\n",
      "remote: Total 515 (delta 12), reused 13 (delta 5), pack-reused 492\u001b[K\r\n",
      "Receiving objects: 100% (515/515), 129.30 MiB | 36.61 MiB/s, done.\r\n",
      "Resolving deltas: 100% (300/300), done.\r\n"
     ]
    }
   ],
   "source": [
    "!git clone https://github.com/phuocchung123/kaggle_recat.git /kaggle/working/sample_s6"
   ]
  },
  {
   "cell_type": "code",
   "execution_count": 16,
   "id": "3950fe89",
   "metadata": {
    "execution": {
     "iopub.execute_input": "2024-04-10T08:36:15.730947Z",
     "iopub.status.busy": "2024-04-10T08:36:15.730539Z",
     "iopub.status.idle": "2024-04-10T08:36:23.708642Z",
     "shell.execute_reply": "2024-04-10T08:36:23.707509Z"
    },
    "papermill": {
     "duration": 8.083046,
     "end_time": "2024-04-10T08:36:23.711001",
     "exception": false,
     "start_time": "2024-04-10T08:36:15.627955",
     "status": "completed"
    },
    "tags": []
   },
   "outputs": [
    {
     "name": "stdout",
     "output_type": "stream",
     "text": [
      "Traceback (most recent call last):\r\n",
      "  File \"/kaggle/working/sample_s6/main_finetune.py\", line 40, in <module>\r\n",
      "    finetune(args)\r\n",
      "  File \"/kaggle/working/sample_s6/src_chung/finetune.py\", line 24, in finetune\r\n",
      "    data_train = GraphDataset(args.graph_save_path+'data_train.npz')\r\n",
      "  File \"/kaggle/working/sample_s6/src_chung/dataset.py\", line 9, in __init__\r\n",
      "    self.load()\r\n",
      "  File \"/kaggle/working/sample_s6/src_chung/dataset.py\", line 12, in load\r\n",
      "    rmol_dict=np.load(self.graph_save_path,allow_pickle=True)[\"rmol\"]\r\n",
      "  File \"/opt/conda/lib/python3.10/site-packages/numpy/lib/npyio.py\", line 427, in load\r\n",
      "    fid = stack.enter_context(open(os_fspath(file), \"rb\"))\r\n",
      "FileNotFoundError: [Errno 2] No such file or directory: '/kaggle/working/sample/data_chung/data_train.npz'\r\n"
     ]
    }
   ],
   "source": [
    "!python3 /kaggle/working/sample_s6/main_finetune.py"
   ]
  },
  {
   "cell_type": "markdown",
   "id": "b646dcf8",
   "metadata": {
    "papermill": {
     "duration": 0.100092,
     "end_time": "2024-04-10T08:36:23.912076",
     "exception": false,
     "start_time": "2024-04-10T08:36:23.811984",
     "status": "completed"
    },
    "tags": []
   },
   "source": [
    "# depth=3, sub"
   ]
  },
  {
   "cell_type": "code",
   "execution_count": 17,
   "id": "de884ebc",
   "metadata": {
    "execution": {
     "iopub.execute_input": "2024-04-10T08:36:24.120051Z",
     "iopub.status.busy": "2024-04-10T08:36:24.119354Z",
     "iopub.status.idle": "2024-04-10T08:36:24.124575Z",
     "shell.execute_reply": "2024-04-10T08:36:24.123675Z"
    },
    "papermill": {
     "duration": 0.10976,
     "end_time": "2024-04-10T08:36:24.126492",
     "exception": false,
     "start_time": "2024-04-10T08:36:24.016732",
     "status": "completed"
    },
    "tags": []
   },
   "outputs": [],
   "source": [
    "import shutil\n",
    "import os\n",
    "\n",
    "# Delete existing directory\n",
    "if os.path.exists('/kaggle/working/sample_s3'):\n",
    "    shutil.rmtree('/kaggle/working/sample_s3')"
   ]
  },
  {
   "cell_type": "code",
   "execution_count": 18,
   "id": "578fcf07",
   "metadata": {
    "execution": {
     "iopub.execute_input": "2024-04-10T08:36:24.329822Z",
     "iopub.status.busy": "2024-04-10T08:36:24.329463Z",
     "iopub.status.idle": "2024-04-10T08:36:31.078047Z",
     "shell.execute_reply": "2024-04-10T08:36:31.076901Z"
    },
    "papermill": {
     "duration": 6.852826,
     "end_time": "2024-04-10T08:36:31.080560",
     "exception": false,
     "start_time": "2024-04-10T08:36:24.227734",
     "status": "completed"
    },
    "tags": []
   },
   "outputs": [
    {
     "name": "stdout",
     "output_type": "stream",
     "text": [
      "Cloning into '/kaggle/working/sample_s3'...\r\n",
      "remote: Enumerating objects: 515, done.\u001b[K\r\n",
      "remote: Counting objects: 100% (23/23), done.\u001b[K\r\n",
      "remote: Compressing objects: 100% (18/18), done.\u001b[K\r\n",
      "remote: Total 515 (delta 12), reused 13 (delta 5), pack-reused 492\u001b[K\r\n",
      "Receiving objects: 100% (515/515), 129.30 MiB | 36.09 MiB/s, done.\r\n",
      "Resolving deltas: 100% (300/300), done.\r\n"
     ]
    }
   ],
   "source": [
    "!git clone https://github.com/phuocchung123/kaggle_recat.git /kaggle/working/sample_s3"
   ]
  },
  {
   "cell_type": "code",
   "execution_count": 19,
   "id": "3dfc5279",
   "metadata": {
    "execution": {
     "iopub.execute_input": "2024-04-10T08:36:31.313137Z",
     "iopub.status.busy": "2024-04-10T08:36:31.312242Z",
     "iopub.status.idle": "2024-04-10T08:36:39.196189Z",
     "shell.execute_reply": "2024-04-10T08:36:39.195187Z"
    },
    "papermill": {
     "duration": 7.992452,
     "end_time": "2024-04-10T08:36:39.198607",
     "exception": false,
     "start_time": "2024-04-10T08:36:31.206155",
     "status": "completed"
    },
    "tags": []
   },
   "outputs": [
    {
     "name": "stdout",
     "output_type": "stream",
     "text": [
      "Traceback (most recent call last):\r\n",
      "  File \"/kaggle/working/sample_s3/main_finetune.py\", line 40, in <module>\r\n",
      "    finetune(args)\r\n",
      "  File \"/kaggle/working/sample_s3/src_chung/finetune.py\", line 24, in finetune\r\n",
      "    data_train = GraphDataset(args.graph_save_path+'data_train.npz')\r\n",
      "  File \"/kaggle/working/sample_s3/src_chung/dataset.py\", line 9, in __init__\r\n",
      "    self.load()\r\n",
      "  File \"/kaggle/working/sample_s3/src_chung/dataset.py\", line 12, in load\r\n",
      "    rmol_dict=np.load(self.graph_save_path,allow_pickle=True)[\"rmol\"]\r\n",
      "  File \"/opt/conda/lib/python3.10/site-packages/numpy/lib/npyio.py\", line 427, in load\r\n",
      "    fid = stack.enter_context(open(os_fspath(file), \"rb\"))\r\n",
      "FileNotFoundError: [Errno 2] No such file or directory: '/kaggle/working/sample/data_chung/data_train.npz'\r\n"
     ]
    }
   ],
   "source": [
    "!python3 /kaggle/working/sample_s3/main_finetune.py"
   ]
  },
  {
   "cell_type": "markdown",
   "id": "c725fd02",
   "metadata": {
    "papermill": {
     "duration": 0.101675,
     "end_time": "2024-04-10T08:36:39.402892",
     "exception": false,
     "start_time": "2024-04-10T08:36:39.301217",
     "status": "completed"
    },
    "tags": []
   },
   "source": [
    "# depth=2, sub"
   ]
  },
  {
   "cell_type": "code",
   "execution_count": 20,
   "id": "7057fc58",
   "metadata": {
    "execution": {
     "iopub.execute_input": "2024-04-10T08:36:39.609624Z",
     "iopub.status.busy": "2024-04-10T08:36:39.608754Z",
     "iopub.status.idle": "2024-04-10T08:36:39.615570Z",
     "shell.execute_reply": "2024-04-10T08:36:39.614760Z"
    },
    "papermill": {
     "duration": 0.112487,
     "end_time": "2024-04-10T08:36:39.617526",
     "exception": false,
     "start_time": "2024-04-10T08:36:39.505039",
     "status": "completed"
    },
    "tags": []
   },
   "outputs": [],
   "source": [
    "import shutil\n",
    "import os\n",
    "\n",
    "# Delete existing directory\n",
    "if os.path.exists('/kaggle/working/sample_s2'):\n",
    "    shutil.rmtree('/kaggle/working/sample_s2')"
   ]
  },
  {
   "cell_type": "code",
   "execution_count": 21,
   "id": "abd65e27",
   "metadata": {
    "execution": {
     "iopub.execute_input": "2024-04-10T08:36:39.824358Z",
     "iopub.status.busy": "2024-04-10T08:36:39.823474Z",
     "iopub.status.idle": "2024-04-10T08:36:46.570126Z",
     "shell.execute_reply": "2024-04-10T08:36:46.568910Z"
    },
    "papermill": {
     "duration": 6.853124,
     "end_time": "2024-04-10T08:36:46.572705",
     "exception": false,
     "start_time": "2024-04-10T08:36:39.719581",
     "status": "completed"
    },
    "tags": []
   },
   "outputs": [
    {
     "name": "stdout",
     "output_type": "stream",
     "text": [
      "Cloning into '/kaggle/working/sample_s2'...\r\n",
      "remote: Enumerating objects: 515, done.\u001b[K\r\n",
      "remote: Counting objects: 100% (23/23), done.\u001b[K\r\n",
      "remote: Compressing objects: 100% (18/18), done.\u001b[K\r\n",
      "remote: Total 515 (delta 12), reused 13 (delta 5), pack-reused 492\u001b[K\r\n",
      "Receiving objects: 100% (515/515), 129.30 MiB | 36.07 MiB/s, done.\r\n",
      "Resolving deltas: 100% (300/300), done.\r\n"
     ]
    }
   ],
   "source": [
    "!git clone https://github.com/phuocchung123/kaggle_recat.git /kaggle/working/sample_s2"
   ]
  },
  {
   "cell_type": "code",
   "execution_count": 22,
   "id": "6331e11f",
   "metadata": {
    "execution": {
     "iopub.execute_input": "2024-04-10T08:36:46.785500Z",
     "iopub.status.busy": "2024-04-10T08:36:46.785117Z",
     "iopub.status.idle": "2024-04-10T08:36:54.629936Z",
     "shell.execute_reply": "2024-04-10T08:36:54.628767Z"
    },
    "papermill": {
     "duration": 7.953972,
     "end_time": "2024-04-10T08:36:54.632390",
     "exception": false,
     "start_time": "2024-04-10T08:36:46.678418",
     "status": "completed"
    },
    "tags": []
   },
   "outputs": [
    {
     "name": "stdout",
     "output_type": "stream",
     "text": [
      "Traceback (most recent call last):\r\n",
      "  File \"/kaggle/working/sample_s2/main_finetune.py\", line 40, in <module>\r\n",
      "    finetune(args)\r\n",
      "  File \"/kaggle/working/sample_s2/src_chung/finetune.py\", line 24, in finetune\r\n",
      "    data_train = GraphDataset(args.graph_save_path+'data_train.npz')\r\n",
      "  File \"/kaggle/working/sample_s2/src_chung/dataset.py\", line 9, in __init__\r\n",
      "    self.load()\r\n",
      "  File \"/kaggle/working/sample_s2/src_chung/dataset.py\", line 12, in load\r\n",
      "    rmol_dict=np.load(self.graph_save_path,allow_pickle=True)[\"rmol\"]\r\n",
      "  File \"/opt/conda/lib/python3.10/site-packages/numpy/lib/npyio.py\", line 427, in load\r\n",
      "    fid = stack.enter_context(open(os_fspath(file), \"rb\"))\r\n",
      "FileNotFoundError: [Errno 2] No such file or directory: '/kaggle/working/sample/data_chung/data_train.npz'\r\n"
     ]
    }
   ],
   "source": [
    "!python3 /kaggle/working/sample_s2/main_finetune.py"
   ]
  },
  {
   "cell_type": "markdown",
   "id": "2eb86087",
   "metadata": {
    "papermill": {
     "duration": 0.106115,
     "end_time": "2024-04-10T08:36:54.844339",
     "exception": false,
     "start_time": "2024-04-10T08:36:54.738224",
     "status": "completed"
    },
    "tags": []
   },
   "source": [
    "# depth =6, add"
   ]
  },
  {
   "cell_type": "markdown",
   "id": "9259f3c8",
   "metadata": {
    "papermill": {
     "duration": 0.119735,
     "end_time": "2024-04-10T08:36:55.074765",
     "exception": false,
     "start_time": "2024-04-10T08:36:54.955030",
     "status": "completed"
    },
    "tags": []
   },
   "source": [
    "# depth=3, add"
   ]
  },
  {
   "cell_type": "code",
   "execution_count": 23,
   "id": "c67a034c",
   "metadata": {
    "execution": {
     "iopub.execute_input": "2024-04-10T08:36:55.293137Z",
     "iopub.status.busy": "2024-04-10T08:36:55.292196Z",
     "iopub.status.idle": "2024-04-10T08:36:55.297596Z",
     "shell.execute_reply": "2024-04-10T08:36:55.296743Z"
    },
    "papermill": {
     "duration": 0.114591,
     "end_time": "2024-04-10T08:36:55.299558",
     "exception": false,
     "start_time": "2024-04-10T08:36:55.184967",
     "status": "completed"
    },
    "tags": []
   },
   "outputs": [],
   "source": [
    "import shutil\n",
    "import os\n",
    "\n",
    "# Delete existing directory\n",
    "if os.path.exists('/kaggle/working/sample_a3'):\n",
    "    shutil.rmtree('/kaggle/working/sample_a3')"
   ]
  },
  {
   "cell_type": "code",
   "execution_count": 24,
   "id": "8e5534ca",
   "metadata": {
    "execution": {
     "iopub.execute_input": "2024-04-10T08:36:55.510189Z",
     "iopub.status.busy": "2024-04-10T08:36:55.509828Z",
     "iopub.status.idle": "2024-04-10T08:37:02.317422Z",
     "shell.execute_reply": "2024-04-10T08:37:02.316346Z"
    },
    "papermill": {
     "duration": 6.915509,
     "end_time": "2024-04-10T08:37:02.319963",
     "exception": false,
     "start_time": "2024-04-10T08:36:55.404454",
     "status": "completed"
    },
    "tags": []
   },
   "outputs": [
    {
     "name": "stdout",
     "output_type": "stream",
     "text": [
      "Cloning into '/kaggle/working/sample_a3'...\r\n",
      "remote: Enumerating objects: 515, done.\u001b[K\r\n",
      "remote: Counting objects: 100% (23/23), done.\u001b[K\r\n",
      "remote: Compressing objects: 100% (18/18), done.\u001b[K\r\n",
      "remote: Total 515 (delta 12), reused 13 (delta 5), pack-reused 492\u001b[K\r\n",
      "Receiving objects: 100% (515/515), 129.30 MiB | 34.91 MiB/s, done.\r\n",
      "Resolving deltas: 100% (300/300), done.\r\n"
     ]
    }
   ],
   "source": [
    "!git clone https://github.com/phuocchung123/kaggle_recat.git /kaggle/working/sample_a3"
   ]
  },
  {
   "cell_type": "code",
   "execution_count": 25,
   "id": "93bc61c9",
   "metadata": {
    "execution": {
     "iopub.execute_input": "2024-04-10T08:37:02.534886Z",
     "iopub.status.busy": "2024-04-10T08:37:02.533921Z",
     "iopub.status.idle": "2024-04-10T08:37:10.447482Z",
     "shell.execute_reply": "2024-04-10T08:37:10.446366Z"
    },
    "papermill": {
     "duration": 8.02315,
     "end_time": "2024-04-10T08:37:10.449958",
     "exception": false,
     "start_time": "2024-04-10T08:37:02.426808",
     "status": "completed"
    },
    "tags": []
   },
   "outputs": [
    {
     "name": "stdout",
     "output_type": "stream",
     "text": [
      "Traceback (most recent call last):\r\n",
      "  File \"/kaggle/working/sample_a3/main_finetune.py\", line 40, in <module>\r\n",
      "    finetune(args)\r\n",
      "  File \"/kaggle/working/sample_a3/src_chung/finetune.py\", line 24, in finetune\r\n",
      "    data_train = GraphDataset(args.graph_save_path+'data_train.npz')\r\n",
      "  File \"/kaggle/working/sample_a3/src_chung/dataset.py\", line 9, in __init__\r\n",
      "    self.load()\r\n",
      "  File \"/kaggle/working/sample_a3/src_chung/dataset.py\", line 12, in load\r\n",
      "    rmol_dict=np.load(self.graph_save_path,allow_pickle=True)[\"rmol\"]\r\n",
      "  File \"/opt/conda/lib/python3.10/site-packages/numpy/lib/npyio.py\", line 427, in load\r\n",
      "    fid = stack.enter_context(open(os_fspath(file), \"rb\"))\r\n",
      "FileNotFoundError: [Errno 2] No such file or directory: '/kaggle/working/sample/data_chung/data_train.npz'\r\n"
     ]
    }
   ],
   "source": [
    "!python3 /kaggle/working/sample_a3/main_finetune.py"
   ]
  },
  {
   "cell_type": "markdown",
   "id": "1f59b8a3",
   "metadata": {
    "papermill": {
     "duration": 0.112306,
     "end_time": "2024-04-10T08:37:10.672577",
     "exception": false,
     "start_time": "2024-04-10T08:37:10.560271",
     "status": "completed"
    },
    "tags": []
   },
   "source": [
    "# depth=2, add"
   ]
  }
 ],
 "metadata": {
  "kaggle": {
   "accelerator": "gpu",
   "dataSources": [],
   "dockerImageVersionId": 30674,
   "isGpuEnabled": true,
   "isInternetEnabled": true,
   "language": "python",
   "sourceType": "notebook"
  },
  "kernelspec": {
   "display_name": "Python 3",
   "language": "python",
   "name": "python3"
  },
  "language_info": {
   "codemirror_mode": {
    "name": "ipython",
    "version": 3
   },
   "file_extension": ".py",
   "mimetype": "text/x-python",
   "name": "python",
   "nbconvert_exporter": "python",
   "pygments_lexer": "ipython3",
   "version": "3.10.13"
  },
  "papermill": {
   "default_parameters": {},
   "duration": 338.014557,
   "end_time": "2024-04-10T08:37:11.614428",
   "environment_variables": {},
   "exception": null,
   "input_path": "__notebook__.ipynb",
   "output_path": "__notebook__.ipynb",
   "parameters": {},
   "start_time": "2024-04-10T08:31:33.599871",
   "version": "2.5.0"
  }
 },
 "nbformat": 4,
 "nbformat_minor": 5
}
